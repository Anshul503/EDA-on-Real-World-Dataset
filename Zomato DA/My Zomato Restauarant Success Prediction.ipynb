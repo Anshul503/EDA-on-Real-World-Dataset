{
    "cells": [
        {
            "cell_type": "code",
            "execution_count": 2,
            "source": [
                "import pandas as pd\r\n",
                "import numpy as np\r\n",
                "import matplotlib.pyplot as plt\r\n",
                "import seaborn as sns\r\n",
                "\r\n",
                "### so that u dont have warnings\r\n",
                "from warnings import filterwarnings\r\n",
                "filterwarnings('ignore')"
            ],
            "outputs": [],
            "metadata": {}
        },
        {
            "cell_type": "code",
            "execution_count": 3,
            "source": [
                "from pandas import read_csv\r\n",
                "df= read_csv(\"D:\\Data Science Real World Use Cases S.S (Udemy)\\Predict Success of Zomato Restaurant\\zomato.csv\")\r\n",
                "\r\n",
                "# Results\r\n",
                "print(f'Dataset shape: {df.shape}')\r\n",
                "df.head()"
            ],
            "outputs": [
                {
                    "output_type": "stream",
                    "name": "stdout",
                    "text": [
                        "Dataset shape: (51717, 17)\n"
                    ]
                },
                {
                    "output_type": "execute_result",
                    "data": {
                        "text/plain": [
                            "                                                 url  \\\n",
                            "0  https://www.zomato.com/bangalore/jalsa-banasha...   \n",
                            "1  https://www.zomato.com/bangalore/spice-elephan...   \n",
                            "2  https://www.zomato.com/SanchurroBangalore?cont...   \n",
                            "3  https://www.zomato.com/bangalore/addhuri-udupi...   \n",
                            "4  https://www.zomato.com/bangalore/grand-village...   \n",
                            "\n",
                            "                                             address                   name  \\\n",
                            "0  942, 21st Main Road, 2nd Stage, Banashankari, ...                  Jalsa   \n",
                            "1  2nd Floor, 80 Feet Road, Near Big Bazaar, 6th ...         Spice Elephant   \n",
                            "2  1112, Next to KIMS Medical College, 17th Cross...        San Churro Cafe   \n",
                            "3  1st Floor, Annakuteera, 3rd Stage, Banashankar...  Addhuri Udupi Bhojana   \n",
                            "4  10, 3rd Floor, Lakshmi Associates, Gandhi Baza...          Grand Village   \n",
                            "\n",
                            "  online_order book_table   rate  votes                             phone  \\\n",
                            "0          Yes        Yes  4.1/5    775    080 42297555\\r\\n+91 9743772233   \n",
                            "1          Yes         No  4.1/5    787                      080 41714161   \n",
                            "2          Yes         No  3.8/5    918                    +91 9663487993   \n",
                            "3           No         No  3.7/5     88                    +91 9620009302   \n",
                            "4           No         No  3.8/5    166  +91 8026612447\\r\\n+91 9901210005   \n",
                            "\n",
                            "       location            rest_type  \\\n",
                            "0  Banashankari        Casual Dining   \n",
                            "1  Banashankari        Casual Dining   \n",
                            "2  Banashankari  Cafe, Casual Dining   \n",
                            "3  Banashankari          Quick Bites   \n",
                            "4  Basavanagudi        Casual Dining   \n",
                            "\n",
                            "                                          dish_liked  \\\n",
                            "0  Pasta, Lunch Buffet, Masala Papad, Paneer Laja...   \n",
                            "1  Momos, Lunch Buffet, Chocolate Nirvana, Thai G...   \n",
                            "2  Churros, Cannelloni, Minestrone Soup, Hot Choc...   \n",
                            "3                                        Masala Dosa   \n",
                            "4                                Panipuri, Gol Gappe   \n",
                            "\n",
                            "                         cuisines approx_cost(for two people)  \\\n",
                            "0  North Indian, Mughlai, Chinese                         800   \n",
                            "1     Chinese, North Indian, Thai                         800   \n",
                            "2          Cafe, Mexican, Italian                         800   \n",
                            "3      South Indian, North Indian                         300   \n",
                            "4        North Indian, Rajasthani                         600   \n",
                            "\n",
                            "                                        reviews_list menu_item  \\\n",
                            "0  [('Rated 4.0', 'RATED\\n  A beautiful place to ...        []   \n",
                            "1  [('Rated 4.0', 'RATED\\n  Had been here for din...        []   \n",
                            "2  [('Rated 3.0', \"RATED\\n  Ambience is not that ...        []   \n",
                            "3  [('Rated 4.0', \"RATED\\n  Great food and proper...        []   \n",
                            "4  [('Rated 4.0', 'RATED\\n  Very good restaurant ...        []   \n",
                            "\n",
                            "  listed_in(type) listed_in(city)  \n",
                            "0          Buffet    Banashankari  \n",
                            "1          Buffet    Banashankari  \n",
                            "2          Buffet    Banashankari  \n",
                            "3          Buffet    Banashankari  \n",
                            "4          Buffet    Banashankari  "
                        ],
                        "text/html": [
                            "<div>\n",
                            "<style scoped>\n",
                            "    .dataframe tbody tr th:only-of-type {\n",
                            "        vertical-align: middle;\n",
                            "    }\n",
                            "\n",
                            "    .dataframe tbody tr th {\n",
                            "        vertical-align: top;\n",
                            "    }\n",
                            "\n",
                            "    .dataframe thead th {\n",
                            "        text-align: right;\n",
                            "    }\n",
                            "</style>\n",
                            "<table border=\"1\" class=\"dataframe\">\n",
                            "  <thead>\n",
                            "    <tr style=\"text-align: right;\">\n",
                            "      <th></th>\n",
                            "      <th>url</th>\n",
                            "      <th>address</th>\n",
                            "      <th>name</th>\n",
                            "      <th>online_order</th>\n",
                            "      <th>book_table</th>\n",
                            "      <th>rate</th>\n",
                            "      <th>votes</th>\n",
                            "      <th>phone</th>\n",
                            "      <th>location</th>\n",
                            "      <th>rest_type</th>\n",
                            "      <th>dish_liked</th>\n",
                            "      <th>cuisines</th>\n",
                            "      <th>approx_cost(for two people)</th>\n",
                            "      <th>reviews_list</th>\n",
                            "      <th>menu_item</th>\n",
                            "      <th>listed_in(type)</th>\n",
                            "      <th>listed_in(city)</th>\n",
                            "    </tr>\n",
                            "  </thead>\n",
                            "  <tbody>\n",
                            "    <tr>\n",
                            "      <th>0</th>\n",
                            "      <td>https://www.zomato.com/bangalore/jalsa-banasha...</td>\n",
                            "      <td>942, 21st Main Road, 2nd Stage, Banashankari, ...</td>\n",
                            "      <td>Jalsa</td>\n",
                            "      <td>Yes</td>\n",
                            "      <td>Yes</td>\n",
                            "      <td>4.1/5</td>\n",
                            "      <td>775</td>\n",
                            "      <td>080 42297555\\r\\n+91 9743772233</td>\n",
                            "      <td>Banashankari</td>\n",
                            "      <td>Casual Dining</td>\n",
                            "      <td>Pasta, Lunch Buffet, Masala Papad, Paneer Laja...</td>\n",
                            "      <td>North Indian, Mughlai, Chinese</td>\n",
                            "      <td>800</td>\n",
                            "      <td>[('Rated 4.0', 'RATED\\n  A beautiful place to ...</td>\n",
                            "      <td>[]</td>\n",
                            "      <td>Buffet</td>\n",
                            "      <td>Banashankari</td>\n",
                            "    </tr>\n",
                            "    <tr>\n",
                            "      <th>1</th>\n",
                            "      <td>https://www.zomato.com/bangalore/spice-elephan...</td>\n",
                            "      <td>2nd Floor, 80 Feet Road, Near Big Bazaar, 6th ...</td>\n",
                            "      <td>Spice Elephant</td>\n",
                            "      <td>Yes</td>\n",
                            "      <td>No</td>\n",
                            "      <td>4.1/5</td>\n",
                            "      <td>787</td>\n",
                            "      <td>080 41714161</td>\n",
                            "      <td>Banashankari</td>\n",
                            "      <td>Casual Dining</td>\n",
                            "      <td>Momos, Lunch Buffet, Chocolate Nirvana, Thai G...</td>\n",
                            "      <td>Chinese, North Indian, Thai</td>\n",
                            "      <td>800</td>\n",
                            "      <td>[('Rated 4.0', 'RATED\\n  Had been here for din...</td>\n",
                            "      <td>[]</td>\n",
                            "      <td>Buffet</td>\n",
                            "      <td>Banashankari</td>\n",
                            "    </tr>\n",
                            "    <tr>\n",
                            "      <th>2</th>\n",
                            "      <td>https://www.zomato.com/SanchurroBangalore?cont...</td>\n",
                            "      <td>1112, Next to KIMS Medical College, 17th Cross...</td>\n",
                            "      <td>San Churro Cafe</td>\n",
                            "      <td>Yes</td>\n",
                            "      <td>No</td>\n",
                            "      <td>3.8/5</td>\n",
                            "      <td>918</td>\n",
                            "      <td>+91 9663487993</td>\n",
                            "      <td>Banashankari</td>\n",
                            "      <td>Cafe, Casual Dining</td>\n",
                            "      <td>Churros, Cannelloni, Minestrone Soup, Hot Choc...</td>\n",
                            "      <td>Cafe, Mexican, Italian</td>\n",
                            "      <td>800</td>\n",
                            "      <td>[('Rated 3.0', \"RATED\\n  Ambience is not that ...</td>\n",
                            "      <td>[]</td>\n",
                            "      <td>Buffet</td>\n",
                            "      <td>Banashankari</td>\n",
                            "    </tr>\n",
                            "    <tr>\n",
                            "      <th>3</th>\n",
                            "      <td>https://www.zomato.com/bangalore/addhuri-udupi...</td>\n",
                            "      <td>1st Floor, Annakuteera, 3rd Stage, Banashankar...</td>\n",
                            "      <td>Addhuri Udupi Bhojana</td>\n",
                            "      <td>No</td>\n",
                            "      <td>No</td>\n",
                            "      <td>3.7/5</td>\n",
                            "      <td>88</td>\n",
                            "      <td>+91 9620009302</td>\n",
                            "      <td>Banashankari</td>\n",
                            "      <td>Quick Bites</td>\n",
                            "      <td>Masala Dosa</td>\n",
                            "      <td>South Indian, North Indian</td>\n",
                            "      <td>300</td>\n",
                            "      <td>[('Rated 4.0', \"RATED\\n  Great food and proper...</td>\n",
                            "      <td>[]</td>\n",
                            "      <td>Buffet</td>\n",
                            "      <td>Banashankari</td>\n",
                            "    </tr>\n",
                            "    <tr>\n",
                            "      <th>4</th>\n",
                            "      <td>https://www.zomato.com/bangalore/grand-village...</td>\n",
                            "      <td>10, 3rd Floor, Lakshmi Associates, Gandhi Baza...</td>\n",
                            "      <td>Grand Village</td>\n",
                            "      <td>No</td>\n",
                            "      <td>No</td>\n",
                            "      <td>3.8/5</td>\n",
                            "      <td>166</td>\n",
                            "      <td>+91 8026612447\\r\\n+91 9901210005</td>\n",
                            "      <td>Basavanagudi</td>\n",
                            "      <td>Casual Dining</td>\n",
                            "      <td>Panipuri, Gol Gappe</td>\n",
                            "      <td>North Indian, Rajasthani</td>\n",
                            "      <td>600</td>\n",
                            "      <td>[('Rated 4.0', 'RATED\\n  Very good restaurant ...</td>\n",
                            "      <td>[]</td>\n",
                            "      <td>Buffet</td>\n",
                            "      <td>Banashankari</td>\n",
                            "    </tr>\n",
                            "  </tbody>\n",
                            "</table>\n",
                            "</div>"
                        ]
                    },
                    "metadata": {},
                    "execution_count": 3
                }
            ],
            "metadata": {}
        },
        {
            "cell_type": "code",
            "execution_count": 4,
            "source": [
                "df.isnull().sum()"
            ],
            "outputs": [
                {
                    "output_type": "execute_result",
                    "data": {
                        "text/plain": [
                            "url                                0\n",
                            "address                            0\n",
                            "name                               0\n",
                            "online_order                       0\n",
                            "book_table                         0\n",
                            "rate                            7775\n",
                            "votes                              0\n",
                            "phone                           1208\n",
                            "location                          21\n",
                            "rest_type                        227\n",
                            "dish_liked                     28078\n",
                            "cuisines                          45\n",
                            "approx_cost(for two people)      346\n",
                            "reviews_list                       0\n",
                            "menu_item                          0\n",
                            "listed_in(type)                    0\n",
                            "listed_in(city)                    0\n",
                            "dtype: int64"
                        ]
                    },
                    "metadata": {},
                    "execution_count": 4
                }
            ],
            "metadata": {}
        },
        {
            "cell_type": "code",
            "execution_count": 5,
            "source": [
                "df.dropna(how='any',inplace=True)\r\n",
                "df.isnull().sum()"
            ],
            "outputs": [
                {
                    "output_type": "execute_result",
                    "data": {
                        "text/plain": [
                            "url                            0\n",
                            "address                        0\n",
                            "name                           0\n",
                            "online_order                   0\n",
                            "book_table                     0\n",
                            "rate                           0\n",
                            "votes                          0\n",
                            "phone                          0\n",
                            "location                       0\n",
                            "rest_type                      0\n",
                            "dish_liked                     0\n",
                            "cuisines                       0\n",
                            "approx_cost(for two people)    0\n",
                            "reviews_list                   0\n",
                            "menu_item                      0\n",
                            "listed_in(type)                0\n",
                            "listed_in(city)                0\n",
                            "dtype: int64"
                        ]
                    },
                    "metadata": {},
                    "execution_count": 5
                }
            ],
            "metadata": {}
        },
        {
            "cell_type": "code",
            "execution_count": 6,
            "source": [
                "df.duplicated().sum()"
            ],
            "outputs": [
                {
                    "output_type": "execute_result",
                    "data": {
                        "text/plain": [
                            "0"
                        ]
                    },
                    "metadata": {},
                    "execution_count": 6
                }
            ],
            "metadata": {}
        },
        {
            "cell_type": "code",
            "execution_count": 6,
            "source": [
                "df.dtypes"
            ],
            "outputs": [
                {
                    "output_type": "execute_result",
                    "data": {
                        "text/plain": [
                            "url                            object\n",
                            "address                        object\n",
                            "name                           object\n",
                            "online_order                   object\n",
                            "book_table                     object\n",
                            "rate                           object\n",
                            "votes                           int64\n",
                            "phone                          object\n",
                            "location                       object\n",
                            "rest_type                      object\n",
                            "dish_liked                     object\n",
                            "cuisines                       object\n",
                            "approx_cost(for two people)    object\n",
                            "reviews_list                   object\n",
                            "menu_item                      object\n",
                            "listed_in(type)                object\n",
                            "listed_in(city)                object\n",
                            "dtype: object"
                        ]
                    },
                    "metadata": {},
                    "execution_count": 6
                }
            ],
            "metadata": {}
        },
        {
            "cell_type": "code",
            "execution_count": 7,
            "source": [
                "### right now it has some NAN Values so it will be of float data-type,thats why very first I have to convert it into string then\r\n",
                "### I have to remove this comma\r\n",
                "df['approx_cost(for two people)'] = df['approx_cost(for two people)'].astype(str).apply(lambda x: x.replace(',', ''))"
            ],
            "outputs": [],
            "metadata": {}
        },
        {
            "cell_type": "code",
            "execution_count": 8,
            "source": [
                "df['approx_cost(for two people)']=df['approx_cost(for two people)'].astype(float)"
            ],
            "outputs": [],
            "metadata": {}
        },
        {
            "cell_type": "code",
            "execution_count": 9,
            "source": [
                "df['approx_cost(for two people)'].unique()"
            ],
            "outputs": [
                {
                    "output_type": "execute_result",
                    "data": {
                        "text/plain": [
                            "array([ 800.,  300.,  600.,  700.,  550.,  500.,  450.,  650.,  400.,\n",
                            "        750.,  200.,  850., 1200.,  150.,  350.,  250., 1500., 1300.,\n",
                            "       1000.,  100.,  900., 1100., 1600.,  950.,  230., 1700., 1400.,\n",
                            "       1350., 2200., 2000., 1800., 1900.,  180.,  330., 2500., 2100.,\n",
                            "       3000., 2800., 3400.,   40., 1250., 3500., 4000., 2400., 1450.,\n",
                            "       3200., 6000., 1050., 4100., 2300.,  120., 2600., 5000., 3700.,\n",
                            "       1650., 2700., 4500.])"
                        ]
                    },
                    "metadata": {},
                    "execution_count": 9
                }
            ],
            "metadata": {}
        },
        {
            "cell_type": "code",
            "execution_count": 10,
            "source": [
                "df['rate'].unique()"
            ],
            "outputs": [
                {
                    "output_type": "execute_result",
                    "data": {
                        "text/plain": [
                            "array(['4.1/5', '3.8/5', '3.7/5', '4.6/5', '4.0/5', '4.2/5', '3.9/5',\n",
                            "       '3.0/5', '3.6/5', '2.8/5', '4.4/5', '3.1/5', '4.3/5', '2.6/5',\n",
                            "       '3.3/5', '3.5/5', '3.8 /5', '3.2/5', '4.5/5', '2.5/5', '2.9/5',\n",
                            "       '3.4/5', '2.7/5', '4.7/5', 'NEW', '2.4/5', '2.2/5', '2.3/5',\n",
                            "       '4.8/5', '3.9 /5', '4.2 /5', '4.0 /5', '4.1 /5', '2.9 /5',\n",
                            "       '2.7 /5', '2.5 /5', '2.6 /5', '4.5 /5', '4.3 /5', '3.7 /5',\n",
                            "       '4.4 /5', '4.9/5', '2.1/5', '2.0/5', '1.8/5', '3.4 /5', '3.6 /5',\n",
                            "       '3.3 /5', '4.6 /5', '4.9 /5', '3.2 /5', '3.0 /5', '2.8 /5',\n",
                            "       '3.5 /5', '3.1 /5', '4.8 /5', '2.3 /5', '4.7 /5', '2.4 /5',\n",
                            "       '2.1 /5', '2.2 /5', '2.0 /5', '1.8 /5'], dtype=object)"
                        ]
                    },
                    "metadata": {},
                    "execution_count": 10
                }
            ],
            "metadata": {}
        },
        {
            "cell_type": "code",
            "execution_count": 11,
            "source": [
                "df = df.loc[df.rate !='NEW'] #getting rid of \"NEW\""
            ],
            "outputs": [],
            "metadata": {}
        },
        {
            "cell_type": "code",
            "execution_count": 12,
            "source": [
                "df['rate'].unique()"
            ],
            "outputs": [
                {
                    "output_type": "execute_result",
                    "data": {
                        "text/plain": [
                            "array(['4.1/5', '3.8/5', '3.7/5', '4.6/5', '4.0/5', '4.2/5', '3.9/5',\n",
                            "       '3.0/5', '3.6/5', '2.8/5', '4.4/5', '3.1/5', '4.3/5', '2.6/5',\n",
                            "       '3.3/5', '3.5/5', '3.8 /5', '3.2/5', '4.5/5', '2.5/5', '2.9/5',\n",
                            "       '3.4/5', '2.7/5', '4.7/5', '2.4/5', '2.2/5', '2.3/5', '4.8/5',\n",
                            "       '3.9 /5', '4.2 /5', '4.0 /5', '4.1 /5', '2.9 /5', '2.7 /5',\n",
                            "       '2.5 /5', '2.6 /5', '4.5 /5', '4.3 /5', '3.7 /5', '4.4 /5',\n",
                            "       '4.9/5', '2.1/5', '2.0/5', '1.8/5', '3.4 /5', '3.6 /5', '3.3 /5',\n",
                            "       '4.6 /5', '4.9 /5', '3.2 /5', '3.0 /5', '2.8 /5', '3.5 /5',\n",
                            "       '3.1 /5', '4.8 /5', '2.3 /5', '4.7 /5', '2.4 /5', '2.1 /5',\n",
                            "       '2.2 /5', '2.0 /5', '1.8 /5'], dtype=object)"
                        ]
                    },
                    "metadata": {},
                    "execution_count": 12
                }
            ],
            "metadata": {}
        },
        {
            "cell_type": "code",
            "execution_count": 13,
            "source": [
                "df['rate'] = df['rate'].astype(str).apply(lambda x: x.split('/')[0])"
            ],
            "outputs": [],
            "metadata": {}
        },
        {
            "cell_type": "code",
            "execution_count": 14,
            "source": [
                "df['rate'].unique()"
            ],
            "outputs": [
                {
                    "output_type": "execute_result",
                    "data": {
                        "text/plain": [
                            "array(['4.1', '3.8', '3.7', '4.6', '4.0', '4.2', '3.9', '3.0', '3.6',\n",
                            "       '2.8', '4.4', '3.1', '4.3', '2.6', '3.3', '3.5', '3.8 ', '3.2',\n",
                            "       '4.5', '2.5', '2.9', '3.4', '2.7', '4.7', '2.4', '2.2', '2.3',\n",
                            "       '4.8', '3.9 ', '4.2 ', '4.0 ', '4.1 ', '2.9 ', '2.7 ', '2.5 ',\n",
                            "       '2.6 ', '4.5 ', '4.3 ', '3.7 ', '4.4 ', '4.9', '2.1', '2.0', '1.8',\n",
                            "       '3.4 ', '3.6 ', '3.3 ', '4.6 ', '4.9 ', '3.2 ', '3.0 ', '2.8 ',\n",
                            "       '3.5 ', '3.1 ', '4.8 ', '2.3 ', '4.7 ', '2.4 ', '2.1 ', '2.2 ',\n",
                            "       '2.0 ', '1.8 '], dtype=object)"
                        ]
                    },
                    "metadata": {},
                    "execution_count": 14
                }
            ],
            "metadata": {}
        },
        {
            "cell_type": "code",
            "execution_count": 21,
            "source": [
                "df=df.drop(['address','name','votes', 'dish_liked','listed_in(city)'],axis=1) #Dropping the column like \"phone\" and \"url\" and saving the new dataset as \"df\""
            ],
            "outputs": [],
            "metadata": {}
        },
        {
            "cell_type": "code",
            "execution_count": 22,
            "source": [
                "df.head()"
            ],
            "outputs": [
                {
                    "output_type": "execute_result",
                    "data": {
                        "text/plain": [
                            "  online_order book_table rate      location            rest_type  \\\n",
                            "0          Yes        Yes  4.1  Banashankari        Casual Dining   \n",
                            "1          Yes         No  4.1  Banashankari        Casual Dining   \n",
                            "2          Yes         No  3.8  Banashankari  Cafe, Casual Dining   \n",
                            "3           No         No  3.7  Banashankari          Quick Bites   \n",
                            "4           No         No  3.8  Basavanagudi        Casual Dining   \n",
                            "\n",
                            "                         cuisines  approx_cost(for two people)  \\\n",
                            "0  North Indian, Mughlai, Chinese                        800.0   \n",
                            "1     Chinese, North Indian, Thai                        800.0   \n",
                            "2          Cafe, Mexican, Italian                        800.0   \n",
                            "3      South Indian, North Indian                        300.0   \n",
                            "4        North Indian, Rajasthani                        600.0   \n",
                            "\n",
                            "                                        reviews_list menu_item listed_in(type)  \n",
                            "0  [('Rated 4.0', 'RATED\\n  A beautiful place to ...        []          Buffet  \n",
                            "1  [('Rated 4.0', 'RATED\\n  Had been here for din...        []          Buffet  \n",
                            "2  [('Rated 3.0', \"RATED\\n  Ambience is not that ...        []          Buffet  \n",
                            "3  [('Rated 4.0', \"RATED\\n  Great food and proper...        []          Buffet  \n",
                            "4  [('Rated 4.0', 'RATED\\n  Very good restaurant ...        []          Buffet  "
                        ],
                        "text/html": [
                            "<div>\n",
                            "<style scoped>\n",
                            "    .dataframe tbody tr th:only-of-type {\n",
                            "        vertical-align: middle;\n",
                            "    }\n",
                            "\n",
                            "    .dataframe tbody tr th {\n",
                            "        vertical-align: top;\n",
                            "    }\n",
                            "\n",
                            "    .dataframe thead th {\n",
                            "        text-align: right;\n",
                            "    }\n",
                            "</style>\n",
                            "<table border=\"1\" class=\"dataframe\">\n",
                            "  <thead>\n",
                            "    <tr style=\"text-align: right;\">\n",
                            "      <th></th>\n",
                            "      <th>online_order</th>\n",
                            "      <th>book_table</th>\n",
                            "      <th>rate</th>\n",
                            "      <th>location</th>\n",
                            "      <th>rest_type</th>\n",
                            "      <th>cuisines</th>\n",
                            "      <th>approx_cost(for two people)</th>\n",
                            "      <th>reviews_list</th>\n",
                            "      <th>menu_item</th>\n",
                            "      <th>listed_in(type)</th>\n",
                            "    </tr>\n",
                            "  </thead>\n",
                            "  <tbody>\n",
                            "    <tr>\n",
                            "      <th>0</th>\n",
                            "      <td>Yes</td>\n",
                            "      <td>Yes</td>\n",
                            "      <td>4.1</td>\n",
                            "      <td>Banashankari</td>\n",
                            "      <td>Casual Dining</td>\n",
                            "      <td>North Indian, Mughlai, Chinese</td>\n",
                            "      <td>800.0</td>\n",
                            "      <td>[('Rated 4.0', 'RATED\\n  A beautiful place to ...</td>\n",
                            "      <td>[]</td>\n",
                            "      <td>Buffet</td>\n",
                            "    </tr>\n",
                            "    <tr>\n",
                            "      <th>1</th>\n",
                            "      <td>Yes</td>\n",
                            "      <td>No</td>\n",
                            "      <td>4.1</td>\n",
                            "      <td>Banashankari</td>\n",
                            "      <td>Casual Dining</td>\n",
                            "      <td>Chinese, North Indian, Thai</td>\n",
                            "      <td>800.0</td>\n",
                            "      <td>[('Rated 4.0', 'RATED\\n  Had been here for din...</td>\n",
                            "      <td>[]</td>\n",
                            "      <td>Buffet</td>\n",
                            "    </tr>\n",
                            "    <tr>\n",
                            "      <th>2</th>\n",
                            "      <td>Yes</td>\n",
                            "      <td>No</td>\n",
                            "      <td>3.8</td>\n",
                            "      <td>Banashankari</td>\n",
                            "      <td>Cafe, Casual Dining</td>\n",
                            "      <td>Cafe, Mexican, Italian</td>\n",
                            "      <td>800.0</td>\n",
                            "      <td>[('Rated 3.0', \"RATED\\n  Ambience is not that ...</td>\n",
                            "      <td>[]</td>\n",
                            "      <td>Buffet</td>\n",
                            "    </tr>\n",
                            "    <tr>\n",
                            "      <th>3</th>\n",
                            "      <td>No</td>\n",
                            "      <td>No</td>\n",
                            "      <td>3.7</td>\n",
                            "      <td>Banashankari</td>\n",
                            "      <td>Quick Bites</td>\n",
                            "      <td>South Indian, North Indian</td>\n",
                            "      <td>300.0</td>\n",
                            "      <td>[('Rated 4.0', \"RATED\\n  Great food and proper...</td>\n",
                            "      <td>[]</td>\n",
                            "      <td>Buffet</td>\n",
                            "    </tr>\n",
                            "    <tr>\n",
                            "      <th>4</th>\n",
                            "      <td>No</td>\n",
                            "      <td>No</td>\n",
                            "      <td>3.8</td>\n",
                            "      <td>Basavanagudi</td>\n",
                            "      <td>Casual Dining</td>\n",
                            "      <td>North Indian, Rajasthani</td>\n",
                            "      <td>600.0</td>\n",
                            "      <td>[('Rated 4.0', 'RATED\\n  Very good restaurant ...</td>\n",
                            "      <td>[]</td>\n",
                            "      <td>Buffet</td>\n",
                            "    </tr>\n",
                            "  </tbody>\n",
                            "</table>\n",
                            "</div>"
                        ]
                    },
                    "metadata": {},
                    "execution_count": 22
                }
            ],
            "metadata": {}
        },
        {
            "cell_type": "code",
            "execution_count": 24,
            "source": [
                "df=df.drop(['reviews_list'],axis=1)"
            ],
            "outputs": [],
            "metadata": {}
        },
        {
            "cell_type": "code",
            "execution_count": 25,
            "source": [
                "df.head()"
            ],
            "outputs": [
                {
                    "output_type": "execute_result",
                    "data": {
                        "text/plain": [
                            "  online_order book_table rate      location            rest_type  \\\n",
                            "0          Yes        Yes  4.1  Banashankari        Casual Dining   \n",
                            "1          Yes         No  4.1  Banashankari        Casual Dining   \n",
                            "2          Yes         No  3.8  Banashankari  Cafe, Casual Dining   \n",
                            "3           No         No  3.7  Banashankari          Quick Bites   \n",
                            "4           No         No  3.8  Basavanagudi        Casual Dining   \n",
                            "\n",
                            "                         cuisines  approx_cost(for two people) menu_item  \\\n",
                            "0  North Indian, Mughlai, Chinese                        800.0        []   \n",
                            "1     Chinese, North Indian, Thai                        800.0        []   \n",
                            "2          Cafe, Mexican, Italian                        800.0        []   \n",
                            "3      South Indian, North Indian                        300.0        []   \n",
                            "4        North Indian, Rajasthani                        600.0        []   \n",
                            "\n",
                            "  listed_in(type)  \n",
                            "0          Buffet  \n",
                            "1          Buffet  \n",
                            "2          Buffet  \n",
                            "3          Buffet  \n",
                            "4          Buffet  "
                        ],
                        "text/html": [
                            "<div>\n",
                            "<style scoped>\n",
                            "    .dataframe tbody tr th:only-of-type {\n",
                            "        vertical-align: middle;\n",
                            "    }\n",
                            "\n",
                            "    .dataframe tbody tr th {\n",
                            "        vertical-align: top;\n",
                            "    }\n",
                            "\n",
                            "    .dataframe thead th {\n",
                            "        text-align: right;\n",
                            "    }\n",
                            "</style>\n",
                            "<table border=\"1\" class=\"dataframe\">\n",
                            "  <thead>\n",
                            "    <tr style=\"text-align: right;\">\n",
                            "      <th></th>\n",
                            "      <th>online_order</th>\n",
                            "      <th>book_table</th>\n",
                            "      <th>rate</th>\n",
                            "      <th>location</th>\n",
                            "      <th>rest_type</th>\n",
                            "      <th>cuisines</th>\n",
                            "      <th>approx_cost(for two people)</th>\n",
                            "      <th>menu_item</th>\n",
                            "      <th>listed_in(type)</th>\n",
                            "    </tr>\n",
                            "  </thead>\n",
                            "  <tbody>\n",
                            "    <tr>\n",
                            "      <th>0</th>\n",
                            "      <td>Yes</td>\n",
                            "      <td>Yes</td>\n",
                            "      <td>4.1</td>\n",
                            "      <td>Banashankari</td>\n",
                            "      <td>Casual Dining</td>\n",
                            "      <td>North Indian, Mughlai, Chinese</td>\n",
                            "      <td>800.0</td>\n",
                            "      <td>[]</td>\n",
                            "      <td>Buffet</td>\n",
                            "    </tr>\n",
                            "    <tr>\n",
                            "      <th>1</th>\n",
                            "      <td>Yes</td>\n",
                            "      <td>No</td>\n",
                            "      <td>4.1</td>\n",
                            "      <td>Banashankari</td>\n",
                            "      <td>Casual Dining</td>\n",
                            "      <td>Chinese, North Indian, Thai</td>\n",
                            "      <td>800.0</td>\n",
                            "      <td>[]</td>\n",
                            "      <td>Buffet</td>\n",
                            "    </tr>\n",
                            "    <tr>\n",
                            "      <th>2</th>\n",
                            "      <td>Yes</td>\n",
                            "      <td>No</td>\n",
                            "      <td>3.8</td>\n",
                            "      <td>Banashankari</td>\n",
                            "      <td>Cafe, Casual Dining</td>\n",
                            "      <td>Cafe, Mexican, Italian</td>\n",
                            "      <td>800.0</td>\n",
                            "      <td>[]</td>\n",
                            "      <td>Buffet</td>\n",
                            "    </tr>\n",
                            "    <tr>\n",
                            "      <th>3</th>\n",
                            "      <td>No</td>\n",
                            "      <td>No</td>\n",
                            "      <td>3.7</td>\n",
                            "      <td>Banashankari</td>\n",
                            "      <td>Quick Bites</td>\n",
                            "      <td>South Indian, North Indian</td>\n",
                            "      <td>300.0</td>\n",
                            "      <td>[]</td>\n",
                            "      <td>Buffet</td>\n",
                            "    </tr>\n",
                            "    <tr>\n",
                            "      <th>4</th>\n",
                            "      <td>No</td>\n",
                            "      <td>No</td>\n",
                            "      <td>3.8</td>\n",
                            "      <td>Basavanagudi</td>\n",
                            "      <td>Casual Dining</td>\n",
                            "      <td>North Indian, Rajasthani</td>\n",
                            "      <td>600.0</td>\n",
                            "      <td>[]</td>\n",
                            "      <td>Buffet</td>\n",
                            "    </tr>\n",
                            "  </tbody>\n",
                            "</table>\n",
                            "</div>"
                        ]
                    },
                    "metadata": {},
                    "execution_count": 25
                }
            ],
            "metadata": {}
        },
        {
            "cell_type": "code",
            "execution_count": 27,
            "source": [
                "df.shape"
            ],
            "outputs": [
                {
                    "output_type": "execute_result",
                    "data": {
                        "text/plain": [
                            "(23046, 9)"
                        ]
                    },
                    "metadata": {},
                    "execution_count": 27
                }
            ],
            "metadata": {}
        },
        {
            "cell_type": "code",
            "execution_count": 39,
            "source": [
                "df['rate']=df['rate'].astype(str).astype(float)"
            ],
            "outputs": [],
            "metadata": {}
        },
        {
            "cell_type": "code",
            "execution_count": 40,
            "source": [
                " #Splitting features by data type\r\n",
                "cat_features= [col for col in df.columns if df[col].dtype == 'O']\r\n",
                "num_features= [col for col in df.columns if df[col].dtype != 'O']"
            ],
            "outputs": [],
            "metadata": {}
        },
        {
            "cell_type": "code",
            "execution_count": 41,
            "source": [
                "cat_features"
            ],
            "outputs": [
                {
                    "output_type": "execute_result",
                    "data": {
                        "text/plain": [
                            "['online_order',\n",
                            " 'book_table',\n",
                            " 'location',\n",
                            " 'rest_type',\n",
                            " 'cuisines',\n",
                            " 'menu_item',\n",
                            " 'listed_in(type)']"
                        ]
                    },
                    "metadata": {},
                    "execution_count": 41
                }
            ],
            "metadata": {}
        },
        {
            "cell_type": "code",
            "execution_count": 42,
            "source": [
                "num_features"
            ],
            "outputs": [
                {
                    "output_type": "execute_result",
                    "data": {
                        "text/plain": [
                            "['rate', 'approx_cost(for two people)']"
                        ]
                    },
                    "metadata": {},
                    "execution_count": 42
                }
            ],
            "metadata": {}
        },
        {
            "cell_type": "code",
            "execution_count": 43,
            "source": [
                "for feature in cat_features:\r\n",
                "    print('{} has total {} unique features'.format(feature, df[feature].nunique()))"
            ],
            "outputs": [
                {
                    "output_type": "stream",
                    "name": "stdout",
                    "text": [
                        "online_order has total 2 unique features\n",
                        "book_table has total 2 unique features\n",
                        "location has total 88 unique features\n",
                        "rest_type has total 73 unique features\n",
                        "cuisines has total 1677 unique features\n",
                        "menu_item has total 5005 unique features\n",
                        "listed_in(type) has total 7 unique features\n"
                    ]
                }
            ],
            "metadata": {}
        },
        {
            "cell_type": "code",
            "execution_count": 30,
            "source": [
                "df['location'].nunique()"
            ],
            "outputs": [
                {
                    "output_type": "execute_result",
                    "data": {
                        "text/plain": [
                            "88"
                        ]
                    },
                    "metadata": {},
                    "execution_count": 30
                }
            ],
            "metadata": {}
        },
        {
            "cell_type": "code",
            "execution_count": null,
            "source": [
                "df['menu_item'].value_counts()"
            ],
            "outputs": [],
            "metadata": {}
        },
        {
            "cell_type": "code",
            "execution_count": 45,
            "source": [
                "df['total_cuisines'] = df['cuisines'].astype(str).apply(lambda x: len(x.split(',')))\r\n",
                "df['total_rest_type'] = df['rest_type'].astype(str).apply(lambda x: len(x.split(',')))"
            ],
            "outputs": [],
            "metadata": {}
        },
        {
            "cell_type": "code",
            "execution_count": 50,
            "source": [
                "df=df.drop(['menu_item'],axis=1)"
            ],
            "outputs": [],
            "metadata": {}
        },
        {
            "cell_type": "code",
            "execution_count": 51,
            "source": [
                "df.head()"
            ],
            "outputs": [
                {
                    "output_type": "execute_result",
                    "data": {
                        "text/plain": [
                            "  online_order book_table  rate      location            rest_type  \\\n",
                            "0          Yes        Yes   4.1  Banashankari        Casual Dining   \n",
                            "1          Yes         No   4.1  Banashankari        Casual Dining   \n",
                            "2          Yes         No   3.8  Banashankari  Cafe, Casual Dining   \n",
                            "3           No         No   3.7  Banashankari          Quick Bites   \n",
                            "4           No         No   3.8  Basavanagudi        Casual Dining   \n",
                            "\n",
                            "                         cuisines  approx_cost(for two people)  \\\n",
                            "0  North Indian, Mughlai, Chinese                        800.0   \n",
                            "1     Chinese, North Indian, Thai                        800.0   \n",
                            "2          Cafe, Mexican, Italian                        800.0   \n",
                            "3      South Indian, North Indian                        300.0   \n",
                            "4        North Indian, Rajasthani                        600.0   \n",
                            "\n",
                            "  listed_in(type)  total_cuisines  total_rest_type  \n",
                            "0          Buffet               3                1  \n",
                            "1          Buffet               3                1  \n",
                            "2          Buffet               3                2  \n",
                            "3          Buffet               2                1  \n",
                            "4          Buffet               2                1  "
                        ],
                        "text/html": [
                            "<div>\n",
                            "<style scoped>\n",
                            "    .dataframe tbody tr th:only-of-type {\n",
                            "        vertical-align: middle;\n",
                            "    }\n",
                            "\n",
                            "    .dataframe tbody tr th {\n",
                            "        vertical-align: top;\n",
                            "    }\n",
                            "\n",
                            "    .dataframe thead th {\n",
                            "        text-align: right;\n",
                            "    }\n",
                            "</style>\n",
                            "<table border=\"1\" class=\"dataframe\">\n",
                            "  <thead>\n",
                            "    <tr style=\"text-align: right;\">\n",
                            "      <th></th>\n",
                            "      <th>online_order</th>\n",
                            "      <th>book_table</th>\n",
                            "      <th>rate</th>\n",
                            "      <th>location</th>\n",
                            "      <th>rest_type</th>\n",
                            "      <th>cuisines</th>\n",
                            "      <th>approx_cost(for two people)</th>\n",
                            "      <th>listed_in(type)</th>\n",
                            "      <th>total_cuisines</th>\n",
                            "      <th>total_rest_type</th>\n",
                            "    </tr>\n",
                            "  </thead>\n",
                            "  <tbody>\n",
                            "    <tr>\n",
                            "      <th>0</th>\n",
                            "      <td>Yes</td>\n",
                            "      <td>Yes</td>\n",
                            "      <td>4.1</td>\n",
                            "      <td>Banashankari</td>\n",
                            "      <td>Casual Dining</td>\n",
                            "      <td>North Indian, Mughlai, Chinese</td>\n",
                            "      <td>800.0</td>\n",
                            "      <td>Buffet</td>\n",
                            "      <td>3</td>\n",
                            "      <td>1</td>\n",
                            "    </tr>\n",
                            "    <tr>\n",
                            "      <th>1</th>\n",
                            "      <td>Yes</td>\n",
                            "      <td>No</td>\n",
                            "      <td>4.1</td>\n",
                            "      <td>Banashankari</td>\n",
                            "      <td>Casual Dining</td>\n",
                            "      <td>Chinese, North Indian, Thai</td>\n",
                            "      <td>800.0</td>\n",
                            "      <td>Buffet</td>\n",
                            "      <td>3</td>\n",
                            "      <td>1</td>\n",
                            "    </tr>\n",
                            "    <tr>\n",
                            "      <th>2</th>\n",
                            "      <td>Yes</td>\n",
                            "      <td>No</td>\n",
                            "      <td>3.8</td>\n",
                            "      <td>Banashankari</td>\n",
                            "      <td>Cafe, Casual Dining</td>\n",
                            "      <td>Cafe, Mexican, Italian</td>\n",
                            "      <td>800.0</td>\n",
                            "      <td>Buffet</td>\n",
                            "      <td>3</td>\n",
                            "      <td>2</td>\n",
                            "    </tr>\n",
                            "    <tr>\n",
                            "      <th>3</th>\n",
                            "      <td>No</td>\n",
                            "      <td>No</td>\n",
                            "      <td>3.7</td>\n",
                            "      <td>Banashankari</td>\n",
                            "      <td>Quick Bites</td>\n",
                            "      <td>South Indian, North Indian</td>\n",
                            "      <td>300.0</td>\n",
                            "      <td>Buffet</td>\n",
                            "      <td>2</td>\n",
                            "      <td>1</td>\n",
                            "    </tr>\n",
                            "    <tr>\n",
                            "      <th>4</th>\n",
                            "      <td>No</td>\n",
                            "      <td>No</td>\n",
                            "      <td>3.8</td>\n",
                            "      <td>Basavanagudi</td>\n",
                            "      <td>Casual Dining</td>\n",
                            "      <td>North Indian, Rajasthani</td>\n",
                            "      <td>600.0</td>\n",
                            "      <td>Buffet</td>\n",
                            "      <td>2</td>\n",
                            "      <td>1</td>\n",
                            "    </tr>\n",
                            "  </tbody>\n",
                            "</table>\n",
                            "</div>"
                        ]
                    },
                    "metadata": {},
                    "execution_count": 51
                }
            ],
            "metadata": {}
        },
        {
            "cell_type": "code",
            "execution_count": 52,
            "source": [
                "df=df.drop(['rest_type','cuisines'],axis=1)"
            ],
            "outputs": [],
            "metadata": {}
        },
        {
            "cell_type": "code",
            "execution_count": 53,
            "source": [
                "df.head()"
            ],
            "outputs": [
                {
                    "output_type": "execute_result",
                    "data": {
                        "text/plain": [
                            "  online_order book_table  rate      location  approx_cost(for two people)  \\\n",
                            "0          Yes        Yes   4.1  Banashankari                        800.0   \n",
                            "1          Yes         No   4.1  Banashankari                        800.0   \n",
                            "2          Yes         No   3.8  Banashankari                        800.0   \n",
                            "3           No         No   3.7  Banashankari                        300.0   \n",
                            "4           No         No   3.8  Basavanagudi                        600.0   \n",
                            "\n",
                            "  listed_in(type)  total_cuisines  total_rest_type  \n",
                            "0          Buffet               3                1  \n",
                            "1          Buffet               3                1  \n",
                            "2          Buffet               3                2  \n",
                            "3          Buffet               2                1  \n",
                            "4          Buffet               2                1  "
                        ],
                        "text/html": [
                            "<div>\n",
                            "<style scoped>\n",
                            "    .dataframe tbody tr th:only-of-type {\n",
                            "        vertical-align: middle;\n",
                            "    }\n",
                            "\n",
                            "    .dataframe tbody tr th {\n",
                            "        vertical-align: top;\n",
                            "    }\n",
                            "\n",
                            "    .dataframe thead th {\n",
                            "        text-align: right;\n",
                            "    }\n",
                            "</style>\n",
                            "<table border=\"1\" class=\"dataframe\">\n",
                            "  <thead>\n",
                            "    <tr style=\"text-align: right;\">\n",
                            "      <th></th>\n",
                            "      <th>online_order</th>\n",
                            "      <th>book_table</th>\n",
                            "      <th>rate</th>\n",
                            "      <th>location</th>\n",
                            "      <th>approx_cost(for two people)</th>\n",
                            "      <th>listed_in(type)</th>\n",
                            "      <th>total_cuisines</th>\n",
                            "      <th>total_rest_type</th>\n",
                            "    </tr>\n",
                            "  </thead>\n",
                            "  <tbody>\n",
                            "    <tr>\n",
                            "      <th>0</th>\n",
                            "      <td>Yes</td>\n",
                            "      <td>Yes</td>\n",
                            "      <td>4.1</td>\n",
                            "      <td>Banashankari</td>\n",
                            "      <td>800.0</td>\n",
                            "      <td>Buffet</td>\n",
                            "      <td>3</td>\n",
                            "      <td>1</td>\n",
                            "    </tr>\n",
                            "    <tr>\n",
                            "      <th>1</th>\n",
                            "      <td>Yes</td>\n",
                            "      <td>No</td>\n",
                            "      <td>4.1</td>\n",
                            "      <td>Banashankari</td>\n",
                            "      <td>800.0</td>\n",
                            "      <td>Buffet</td>\n",
                            "      <td>3</td>\n",
                            "      <td>1</td>\n",
                            "    </tr>\n",
                            "    <tr>\n",
                            "      <th>2</th>\n",
                            "      <td>Yes</td>\n",
                            "      <td>No</td>\n",
                            "      <td>3.8</td>\n",
                            "      <td>Banashankari</td>\n",
                            "      <td>800.0</td>\n",
                            "      <td>Buffet</td>\n",
                            "      <td>3</td>\n",
                            "      <td>2</td>\n",
                            "    </tr>\n",
                            "    <tr>\n",
                            "      <th>3</th>\n",
                            "      <td>No</td>\n",
                            "      <td>No</td>\n",
                            "      <td>3.7</td>\n",
                            "      <td>Banashankari</td>\n",
                            "      <td>300.0</td>\n",
                            "      <td>Buffet</td>\n",
                            "      <td>2</td>\n",
                            "      <td>1</td>\n",
                            "    </tr>\n",
                            "    <tr>\n",
                            "      <th>4</th>\n",
                            "      <td>No</td>\n",
                            "      <td>No</td>\n",
                            "      <td>3.8</td>\n",
                            "      <td>Basavanagudi</td>\n",
                            "      <td>600.0</td>\n",
                            "      <td>Buffet</td>\n",
                            "      <td>2</td>\n",
                            "      <td>1</td>\n",
                            "    </tr>\n",
                            "  </tbody>\n",
                            "</table>\n",
                            "</div>"
                        ]
                    },
                    "metadata": {},
                    "execution_count": 53
                }
            ],
            "metadata": {}
        },
        {
            "cell_type": "code",
            "execution_count": 54,
            "source": [
                "cat_features= [col for col in df.columns if df[col].dtype == 'O']\r\n",
                "num_features= [col for col in df.columns if df[col].dtype != 'O']"
            ],
            "outputs": [],
            "metadata": {}
        },
        {
            "cell_type": "code",
            "execution_count": 55,
            "source": [
                "cat_features"
            ],
            "outputs": [
                {
                    "output_type": "execute_result",
                    "data": {
                        "text/plain": [
                            "['online_order', 'book_table', 'location', 'listed_in(type)']"
                        ]
                    },
                    "metadata": {},
                    "execution_count": 55
                }
            ],
            "metadata": {}
        },
        {
            "cell_type": "code",
            "execution_count": 78,
            "source": [
                "# Splitting the data\r\n",
                "x = df.drop('rate', axis=1)\r\n",
                "Y = df['rate']"
            ],
            "outputs": [],
            "metadata": {}
        },
        {
            "cell_type": "code",
            "execution_count": 79,
            "source": [
                "x.head()"
            ],
            "outputs": [
                {
                    "output_type": "execute_result",
                    "data": {
                        "text/plain": [
                            "  online_order book_table      location  approx_cost(for two people)  \\\n",
                            "0          Yes        Yes  Banashankari                        800.0   \n",
                            "1          Yes         No  Banashankari                        800.0   \n",
                            "2          Yes         No  Banashankari                        800.0   \n",
                            "3           No         No  Banashankari                        300.0   \n",
                            "4           No         No  Basavanagudi                        600.0   \n",
                            "\n",
                            "  listed_in(type)  total_cuisines  total_rest_type  \n",
                            "0          Buffet               3                1  \n",
                            "1          Buffet               3                1  \n",
                            "2          Buffet               3                2  \n",
                            "3          Buffet               2                1  \n",
                            "4          Buffet               2                1  "
                        ],
                        "text/html": [
                            "<div>\n",
                            "<style scoped>\n",
                            "    .dataframe tbody tr th:only-of-type {\n",
                            "        vertical-align: middle;\n",
                            "    }\n",
                            "\n",
                            "    .dataframe tbody tr th {\n",
                            "        vertical-align: top;\n",
                            "    }\n",
                            "\n",
                            "    .dataframe thead th {\n",
                            "        text-align: right;\n",
                            "    }\n",
                            "</style>\n",
                            "<table border=\"1\" class=\"dataframe\">\n",
                            "  <thead>\n",
                            "    <tr style=\"text-align: right;\">\n",
                            "      <th></th>\n",
                            "      <th>online_order</th>\n",
                            "      <th>book_table</th>\n",
                            "      <th>location</th>\n",
                            "      <th>approx_cost(for two people)</th>\n",
                            "      <th>listed_in(type)</th>\n",
                            "      <th>total_cuisines</th>\n",
                            "      <th>total_rest_type</th>\n",
                            "    </tr>\n",
                            "  </thead>\n",
                            "  <tbody>\n",
                            "    <tr>\n",
                            "      <th>0</th>\n",
                            "      <td>Yes</td>\n",
                            "      <td>Yes</td>\n",
                            "      <td>Banashankari</td>\n",
                            "      <td>800.0</td>\n",
                            "      <td>Buffet</td>\n",
                            "      <td>3</td>\n",
                            "      <td>1</td>\n",
                            "    </tr>\n",
                            "    <tr>\n",
                            "      <th>1</th>\n",
                            "      <td>Yes</td>\n",
                            "      <td>No</td>\n",
                            "      <td>Banashankari</td>\n",
                            "      <td>800.0</td>\n",
                            "      <td>Buffet</td>\n",
                            "      <td>3</td>\n",
                            "      <td>1</td>\n",
                            "    </tr>\n",
                            "    <tr>\n",
                            "      <th>2</th>\n",
                            "      <td>Yes</td>\n",
                            "      <td>No</td>\n",
                            "      <td>Banashankari</td>\n",
                            "      <td>800.0</td>\n",
                            "      <td>Buffet</td>\n",
                            "      <td>3</td>\n",
                            "      <td>2</td>\n",
                            "    </tr>\n",
                            "    <tr>\n",
                            "      <th>3</th>\n",
                            "      <td>No</td>\n",
                            "      <td>No</td>\n",
                            "      <td>Banashankari</td>\n",
                            "      <td>300.0</td>\n",
                            "      <td>Buffet</td>\n",
                            "      <td>2</td>\n",
                            "      <td>1</td>\n",
                            "    </tr>\n",
                            "    <tr>\n",
                            "      <th>4</th>\n",
                            "      <td>No</td>\n",
                            "      <td>No</td>\n",
                            "      <td>Basavanagudi</td>\n",
                            "      <td>600.0</td>\n",
                            "      <td>Buffet</td>\n",
                            "      <td>2</td>\n",
                            "      <td>1</td>\n",
                            "    </tr>\n",
                            "  </tbody>\n",
                            "</table>\n",
                            "</div>"
                        ]
                    },
                    "metadata": {},
                    "execution_count": 79
                }
            ],
            "metadata": {}
        },
        {
            "cell_type": "code",
            "execution_count": 62,
            "source": [
                "from sklearn.preprocessing import LabelEncoder\r\n"
            ],
            "outputs": [],
            "metadata": {}
        },
        {
            "cell_type": "code",
            "execution_count": 80,
            "source": [
                "lb = LabelEncoder()\r\n",
                "x.iloc[:,0]=lb.fit_transform(x.iloc[:,0])\r\n",
                "x.iloc[:,1]=lb.fit_transform(x.iloc[:,1])\r\n",
                "lb1 = LabelEncoder()\r\n",
                "x.iloc[:,2]=lb1.fit_transform(x.iloc[:,2])\r\n",
                "lb2 = LabelEncoder()\r\n",
                "x.iloc[:,4]=lb2.fit_transform(x.iloc[:,4])"
            ],
            "outputs": [],
            "metadata": {}
        },
        {
            "cell_type": "code",
            "execution_count": 81,
            "source": [
                "x.head()"
            ],
            "outputs": [
                {
                    "output_type": "execute_result",
                    "data": {
                        "text/plain": [
                            "   online_order  book_table  location  approx_cost(for two people)  \\\n",
                            "0             1           1         1                        800.0   \n",
                            "1             1           0         1                        800.0   \n",
                            "2             1           0         1                        800.0   \n",
                            "3             0           0         1                        300.0   \n",
                            "4             0           0         4                        600.0   \n",
                            "\n",
                            "   listed_in(type)  total_cuisines  total_rest_type  \n",
                            "0                0               3                1  \n",
                            "1                0               3                1  \n",
                            "2                0               3                2  \n",
                            "3                0               2                1  \n",
                            "4                0               2                1  "
                        ],
                        "text/html": [
                            "<div>\n",
                            "<style scoped>\n",
                            "    .dataframe tbody tr th:only-of-type {\n",
                            "        vertical-align: middle;\n",
                            "    }\n",
                            "\n",
                            "    .dataframe tbody tr th {\n",
                            "        vertical-align: top;\n",
                            "    }\n",
                            "\n",
                            "    .dataframe thead th {\n",
                            "        text-align: right;\n",
                            "    }\n",
                            "</style>\n",
                            "<table border=\"1\" class=\"dataframe\">\n",
                            "  <thead>\n",
                            "    <tr style=\"text-align: right;\">\n",
                            "      <th></th>\n",
                            "      <th>online_order</th>\n",
                            "      <th>book_table</th>\n",
                            "      <th>location</th>\n",
                            "      <th>approx_cost(for two people)</th>\n",
                            "      <th>listed_in(type)</th>\n",
                            "      <th>total_cuisines</th>\n",
                            "      <th>total_rest_type</th>\n",
                            "    </tr>\n",
                            "  </thead>\n",
                            "  <tbody>\n",
                            "    <tr>\n",
                            "      <th>0</th>\n",
                            "      <td>1</td>\n",
                            "      <td>1</td>\n",
                            "      <td>1</td>\n",
                            "      <td>800.0</td>\n",
                            "      <td>0</td>\n",
                            "      <td>3</td>\n",
                            "      <td>1</td>\n",
                            "    </tr>\n",
                            "    <tr>\n",
                            "      <th>1</th>\n",
                            "      <td>1</td>\n",
                            "      <td>0</td>\n",
                            "      <td>1</td>\n",
                            "      <td>800.0</td>\n",
                            "      <td>0</td>\n",
                            "      <td>3</td>\n",
                            "      <td>1</td>\n",
                            "    </tr>\n",
                            "    <tr>\n",
                            "      <th>2</th>\n",
                            "      <td>1</td>\n",
                            "      <td>0</td>\n",
                            "      <td>1</td>\n",
                            "      <td>800.0</td>\n",
                            "      <td>0</td>\n",
                            "      <td>3</td>\n",
                            "      <td>2</td>\n",
                            "    </tr>\n",
                            "    <tr>\n",
                            "      <th>3</th>\n",
                            "      <td>0</td>\n",
                            "      <td>0</td>\n",
                            "      <td>1</td>\n",
                            "      <td>300.0</td>\n",
                            "      <td>0</td>\n",
                            "      <td>2</td>\n",
                            "      <td>1</td>\n",
                            "    </tr>\n",
                            "    <tr>\n",
                            "      <th>4</th>\n",
                            "      <td>0</td>\n",
                            "      <td>0</td>\n",
                            "      <td>4</td>\n",
                            "      <td>600.0</td>\n",
                            "      <td>0</td>\n",
                            "      <td>2</td>\n",
                            "      <td>1</td>\n",
                            "    </tr>\n",
                            "  </tbody>\n",
                            "</table>\n",
                            "</div>"
                        ]
                    },
                    "metadata": {},
                    "execution_count": 81
                }
            ],
            "metadata": {}
        },
        {
            "cell_type": "code",
            "execution_count": 87,
            "source": [
                "Y.head()"
            ],
            "outputs": [
                {
                    "output_type": "execute_result",
                    "data": {
                        "text/plain": [
                            "0    4.1\n",
                            "1    4.1\n",
                            "2    3.8\n",
                            "3    3.7\n",
                            "4    3.8\n",
                            "Name: rate, dtype: float64"
                        ]
                    },
                    "metadata": {},
                    "execution_count": 87
                }
            ],
            "metadata": {}
        },
        {
            "cell_type": "code",
            "execution_count": 82,
            "source": [
                "from sklearn.model_selection import train_test_split\r\n",
                "x_train, x_test, Y_train, Y_test = train_test_split(x, Y, test_size=.20, random_state=42)"
            ],
            "outputs": [],
            "metadata": {}
        },
        {
            "cell_type": "code",
            "execution_count": 94,
            "source": [
                "pip install r2_score"
            ],
            "outputs": [
                {
                    "output_type": "stream",
                    "name": "stdout",
                    "text": [
                        "Note: you may need to restart the kernel to use updated packages.\n"
                    ]
                },
                {
                    "output_type": "stream",
                    "name": "stderr",
                    "text": [
                        "ERROR: Could not find a version that satisfies the requirement r2_score (from versions: none)\n",
                        "ERROR: No matching distribution found for r2_score\n",
                        "WARNING: You are using pip version 21.1.2; however, version 21.2.4 is available.\n",
                        "You should consider upgrading via the 'C:\\Users\\ANSHUL\\AppData\\Local\\Programs\\Python\\Python38\\python.exe -m pip install --upgrade pip' command.\n"
                    ]
                }
            ],
            "metadata": {}
        },
        {
            "cell_type": "code",
            "execution_count": 97,
            "source": [
                "from sklearn.metrics import r2_score"
            ],
            "outputs": [],
            "metadata": {}
        },
        {
            "cell_type": "code",
            "execution_count": 98,
            "source": [
                "from sklearn.ensemble import RandomForestRegressor\r\n",
                "RF_Model=RandomForestRegressor(n_estimators=650,random_state=245,min_samples_leaf=.0001)\r\n",
                "RF_Model.fit(x_train,Y_train)\r\n",
                "Y_predict=RF_Model.predict(x_test)\r\n",
                "r2_score(Y_test,Y_predict)"
            ],
            "outputs": [
                {
                    "output_type": "execute_result",
                    "data": {
                        "text/plain": [
                            "0.6667711567512808"
                        ]
                    },
                    "metadata": {},
                    "execution_count": 98
                }
            ],
            "metadata": {}
        },
        {
            "cell_type": "code",
            "execution_count": 100,
            "source": [
                "from sklearn.linear_model import LogisticRegression\r\n",
                "from sklearn.linear_model import LinearRegression\r\n",
                "from sklearn.ensemble import  ExtraTreesRegressor"
            ],
            "outputs": [],
            "metadata": {}
        },
        {
            "cell_type": "code",
            "execution_count": 102,
            "source": [
                "lr_model=LinearRegression()\r\n",
                "lr_model.fit(x_train,Y_train)"
            ],
            "outputs": [
                {
                    "output_type": "execute_result",
                    "data": {
                        "text/plain": [
                            "LinearRegression(copy_X=True, fit_intercept=True, n_jobs=None, normalize=False)"
                        ]
                    },
                    "metadata": {},
                    "execution_count": 102
                }
            ],
            "metadata": {}
        },
        {
            "cell_type": "code",
            "execution_count": 104,
            "source": [
                "from sklearn.metrics import r2_score\r\n",
                "Y_pred=lr_model.predict(x_test)\r\n",
                "r2_score(Y_test,Y_pred)"
            ],
            "outputs": [
                {
                    "output_type": "execute_result",
                    "data": {
                        "text/plain": [
                            "0.15889674075298488"
                        ]
                    },
                    "metadata": {},
                    "execution_count": 104
                }
            ],
            "metadata": {}
        },
        {
            "cell_type": "code",
            "execution_count": 105,
            "source": [
                "#Preparing Extra Tree Regression\r\n",
                "from sklearn.ensemble import  ExtraTreesRegressor\r\n",
                "ET_Model=ExtraTreesRegressor(n_estimators = 120)\r\n",
                "ET_Model.fit(x_train,Y_train)\r\n",
                "Y_predict=ET_Model.predict(x_test)\r\n",
                "\r\n",
                "\r\n",
                "from sklearn.metrics import r2_score\r\n",
                "r2_score(Y_test,Y_predict)"
            ],
            "outputs": [
                {
                    "output_type": "execute_result",
                    "data": {
                        "text/plain": [
                            "0.6965400508709605"
                        ]
                    },
                    "metadata": {},
                    "execution_count": 105
                }
            ],
            "metadata": {}
        },
        {
            "cell_type": "code",
            "execution_count": 132,
            "source": [
                "new_data=[\"Yes\",\"Yes\",\"Mysore Road\",400,\"Cafes\",3,2]  # online order,book table,location, approx cost,listed in (t),total cuisines, rest_type\r\n",
                "new_data[0]=lb.transform([new_data[0]])[0]\r\n",
                "new_data[1]=lb.transform([new_data[1]])[0]\r\n",
                "new_data[2]=lb1.transform([new_data[2]])[0]\r\n",
                "new_data[4]=lb2.transform([new_data[4]])[0]"
            ],
            "outputs": [],
            "metadata": {}
        },
        {
            "cell_type": "code",
            "execution_count": 133,
            "source": [
                "print(new_data)\r\n",
                "ET_Model.predict([new_data])"
            ],
            "outputs": [
                {
                    "output_type": "stream",
                    "name": "stdout",
                    "text": [
                        "[1, 1, 54, 400, 1, 3, 2]\n"
                    ]
                },
                {
                    "output_type": "execute_result",
                    "data": {
                        "text/plain": [
                            "array([4.25791667])"
                        ]
                    },
                    "metadata": {},
                    "execution_count": 133
                }
            ],
            "metadata": {}
        }
    ],
    "metadata": {
        "orig_nbformat": 4,
        "language_info": {
            "name": "python",
            "version": "3.8.3",
            "mimetype": "text/x-python",
            "codemirror_mode": {
                "name": "ipython",
                "version": 3
            },
            "pygments_lexer": "ipython3",
            "nbconvert_exporter": "python",
            "file_extension": ".py"
        },
        "kernelspec": {
            "name": "python3",
            "display_name": "Python 3.8.3 64-bit"
        },
        "interpreter": {
            "hash": "ceabb525305e28edbd120c574921def4c8a2df768e42693040575c3e902d5ad8"
        }
    },
    "nbformat": 4,
    "nbformat_minor": 2
}